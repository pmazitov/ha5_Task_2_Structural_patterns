{
 "cells": [
  {
   "cell_type": "code",
   "execution_count": 5,
   "id": "14ee0c78",
   "metadata": {},
   "outputs": [
    {
     "name": "stdout",
     "output_type": "stream",
     "text": [
      "Accuracy: 1.0\n"
     ]
    }
   ],
   "source": [
    "from sklearn import datasets\n",
    "from sklearn.model_selection import train_test_split\n",
    "from sklearn.linear_model import LogisticRegression\n",
    "from sklearn.neighbors import KNeighborsClassifier\n",
    "from sklearn.tree import DecisionTreeClassifier\n",
    "from sklearn.svm import SVC\n",
    "from sklearn.metrics import accuracy_score\n",
    "import pandas as pd\n",
    "import numpy as np\n",
    "\n",
    "\n",
    "class StructuralPatternName:\n",
    "    def __init__(self, classifiers_list) -> None:\n",
    "#         <YOUR CODE HERE>\n",
    "        \"\"\"\n",
    "        Initialize a class item with a list of classificators\n",
    "        \"\"\"\n",
    "        self.classifiers = classifiers_list\n",
    "\n",
    "\n",
    "    def fit(self, X_train, y_train):\n",
    "#         <YOUR CODE HERE>\n",
    "        \"\"\"\n",
    "        Fit classifiers from the initialization stage\n",
    "        \"\"\"\n",
    "        for classifier in self.classifiers:\n",
    "            classifier.fit(X_train, y_train)\n",
    "            \n",
    "\n",
    "    def predict(self, X_test):\n",
    "#         <YOUR CODE HERE>\n",
    "        \"\"\"\n",
    "        Get predicts from all the classifiers and return\n",
    "        the most popular answers\n",
    "        \"\"\"\n",
    "        self.predictions = []\n",
    "        for classifier in self.classifiers:\n",
    "            self.predictions += [classifier.predict(X_test)]\n",
    "        self.predictions = np.array(self.predictions)\n",
    "            \n",
    "        ans = []\n",
    "        for i in range(self.predictions.shape[1]):\n",
    "            preds_for_sample = self.predictions[:, i]\n",
    "            counts = np.bincount(preds_for_sample)\n",
    "            ans += [np.argmax(counts)]\n",
    "        return ans\n",
    "\n",
    "\n",
    "if __name__ == \"__main__\":\n",
    "#     <YOUR CODE HERE>\n",
    "    \"\"\"\n",
    "    1. Load iris dataset\n",
    "    2. Shuffle data and divide into train / test.\n",
    "    3. Prepare classifiers to initialize <StructuralPatternName> class.\n",
    "    4. Train the ensemble\n",
    "    \"\"\"\n",
    "    dataset = datasets.load_iris()\n",
    "    X_train, X_test, y_train, y_test = train_test_split(dataset.data, dataset.target, test_size=0.2, shuffle=True)\n",
    "    \n",
    "    classifiers = [LogisticRegression(), KNeighborsClassifier(), SVC(), DecisionTreeClassifier()]\n",
    "    my_ensemble = StructuralPatternName(classifiers)\n",
    "    my_ensemble.fit(X_train, y_train)\n",
    "    ans = my_ensemble.predict(X_test)\n",
    "    \n",
    "    print('Accuracy:', accuracy_score(y_test, ans))\n",
    "    "
   ]
  },
  {
   "cell_type": "code",
   "execution_count": null,
   "id": "87b3de2e",
   "metadata": {},
   "outputs": [],
   "source": []
  }
 ],
 "metadata": {
  "kernelspec": {
   "display_name": "Python 3 (ipykernel)",
   "language": "python",
   "name": "python3"
  },
  "language_info": {
   "codemirror_mode": {
    "name": "ipython",
    "version": 3
   },
   "file_extension": ".py",
   "mimetype": "text/x-python",
   "name": "python",
   "nbconvert_exporter": "python",
   "pygments_lexer": "ipython3",
   "version": "3.8.9"
  }
 },
 "nbformat": 4,
 "nbformat_minor": 5
}
